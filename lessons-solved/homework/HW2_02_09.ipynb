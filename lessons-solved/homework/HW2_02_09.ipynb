{
  "nbformat": 4,
  "nbformat_minor": 0,
  "metadata": {
    "colab": {
      "provenance": [],
      "include_colab_link": true
    },
    "kernelspec": {
      "name": "python3",
      "display_name": "Python 3"
    },
    "language_info": {
      "name": "python"
    }
  },
  "cells": [
    {
      "cell_type": "markdown",
      "metadata": {
        "id": "view-in-github",
        "colab_type": "text"
      },
      "source": [
        "<a href=\"https://colab.research.google.com/github/lia-ang/BME3053C-Spring-2025/blob/main/lessons-solved/homework/HW2_02_09.ipynb\" target=\"_parent\"><img src=\"https://colab.research.google.com/assets/colab-badge.svg\" alt=\"Open In Colab\"/></a>"
      ]
    },
    {
      "cell_type": "code",
      "execution_count": 2,
      "metadata": {
        "colab": {
          "base_uri": "https://localhost:8080/"
        },
        "id": "znvntUWeQD6C",
        "outputId": "60737300-0d81-4fb6-e921-c5701bdfbb1e"
      },
      "outputs": [
        {
          "output_type": "stream",
          "name": "stdout",
          "text": [
            "Normalized bp values: [0.0, 0.32, 0.58, 0.06, 0.79, 1.0, 0.13, 0.64]\n"
          ]
        }
      ],
      "source": [
        "bp_readings = [120, 137, 151, 123, 162, 173, 127, 154]\n",
        "\n",
        "def analyze_bp(bp_data):\n",
        "  #storing data/intializing variables\n",
        "  normalized_bp=[]\n",
        "  min_value=min(bp_data)\n",
        "  max_value=max(bp_data)\n",
        "  #print(min_value, max_value)\n",
        "  for i in range(len(bp_data)):\n",
        "    normalized_value=(bp_readings[i]-min_value)/(max_value-min_value)\n",
        "    #round value\n",
        "    normalized_value=round(normalized_value, 2)\n",
        "    #print(bp_readings[i])\n",
        "    normalized_bp.append(normalized_value)\n",
        "  return normalized_bp\n",
        "\n",
        "normalized_list=analyze_bp(bp_readings)\n",
        "print(f'Normalized bp values: {normalized_list}')\n"
      ]
    }
  ]
}