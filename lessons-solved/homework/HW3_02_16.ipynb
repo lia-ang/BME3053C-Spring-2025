{
  "nbformat": 4,
  "nbformat_minor": 0,
  "metadata": {
    "colab": {
      "provenance": [],
      "authorship_tag": "ABX9TyOPAdQFTXdZivzE+3FMuSZW",
      "include_colab_link": true
    },
    "kernelspec": {
      "name": "python3",
      "display_name": "Python 3"
    },
    "language_info": {
      "name": "python"
    }
  },
  "cells": [
    {
      "cell_type": "markdown",
      "metadata": {
        "id": "view-in-github",
        "colab_type": "text"
      },
      "source": [
        "<a href=\"https://colab.research.google.com/github/lia-ang/BME3053C-Spring-2025/blob/main/lessons-solved/homework/HW3_02_16.ipynb\" target=\"_parent\"><img src=\"https://colab.research.google.com/assets/colab-badge.svg\" alt=\"Open In Colab\"/></a>"
      ]
    },
    {
      "cell_type": "code",
      "execution_count": 7,
      "metadata": {
        "colab": {
          "base_uri": "https://localhost:8080/"
        },
        "id": "gcAqSLrPF6nc",
        "outputId": "8dde46e0-e2db-4bf7-b53c-391066033156"
      },
      "outputs": [
        {
          "output_type": "stream",
          "name": "stdout",
          "text": [
            "Total peaks: 32\n"
          ]
        }
      ],
      "source": [
        "import math\n",
        "import random\n",
        "\n",
        "ppg_signal = [1000 + 100 * math.sin(0.1 * x) + random.randint(-20, 20) for x in range(100)]\n",
        "\n",
        "\n",
        "def signal_peaks(signal):\n",
        "  total_peaks=0\n",
        "  for i in range(1, len(signal)-1): #have to start after first value and end before last value\n",
        "    if signal[i] > signal[i-1] and signal[i] > signal[i+1]:\n",
        "      total_peaks += 1\n",
        "  return total_peaks\n",
        "\n",
        "peak_count = signal_peaks(ppg_signal)\n",
        "\n",
        "print(f'Total peaks: {peak_count}')"
      ]
    }
  ]
}